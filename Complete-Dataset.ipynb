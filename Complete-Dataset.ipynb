{
 "cells": [
  {
   "cell_type": "code",
   "execution_count": 1,
   "metadata": {},
   "outputs": [],
   "source": [
    "from datetime import time\n",
    "import calendar\n",
    "\n",
    "import pandas as pd\n",
    "import numpy as np\n",
    "\n",
    "import matplotlib.pyplot as plt\n",
    "import seaborn as sns\n",
    "\n",
    "from utils import load_dataset"
   ]
  },
  {
   "cell_type": "code",
   "execution_count": 2,
   "metadata": {},
   "outputs": [],
   "source": [
    "%matplotlib inline"
   ]
  },
  {
   "cell_type": "code",
   "execution_count": 3,
   "metadata": {},
   "outputs": [],
   "source": [
    "# Set default Seaborn style\n",
    "sns.set()"
   ]
  },
  {
   "cell_type": "code",
   "execution_count": 4,
   "metadata": {},
   "outputs": [],
   "source": [
    "# df = load_dataset().reset_index()\n",
    "df = load_dataset()"
   ]
  },
  {
   "cell_type": "code",
   "execution_count": 5,
   "metadata": {},
   "outputs": [],
   "source": [
    "def get_period(row):\n",
    "    if time(5, 0, 0) <= row['Fecha-I'].time() <= time(11, 59, 0):\n",
    "        return 'morning'\n",
    "    elif time(12, 0, 0) <= row['Fecha-I'].time() <= time(18, 59, 0):\n",
    "        return 'afternoon'\n",
    "    else:\n",
    "        return 'night'"
   ]
  },
  {
   "cell_type": "code",
   "execution_count": 6,
   "metadata": {},
   "outputs": [],
   "source": [
    "df.reset_index(inplace=True)\n",
    "df['day_period'] = df.apply(lambda row: get_period(row), axis=1)\n",
    "df.set_index('Fecha-I', inplace=True)"
   ]
  },
  {
   "cell_type": "code",
   "execution_count": 7,
   "metadata": {},
   "outputs": [
    {
     "data": {
      "text/plain": [
       "afternoon    25506\n",
       "morning      25352\n",
       "night        17348\n",
       "Name: day_period, dtype: int64"
      ]
     },
     "execution_count": 7,
     "metadata": {},
     "output_type": "execute_result"
    }
   ],
   "source": [
    "df['day_period'].value_counts()"
   ]
  },
  {
   "cell_type": "markdown",
   "metadata": {},
   "source": [
    "Flag_temporada_alta: 1 si Fecha-I está entre 15-Dic y 3-Mar, o 15-Jul y 31-Jul, o\n",
    "11-Sep y 30-Sep, 0 si no"
   ]
  },
  {
   "cell_type": "code",
   "execution_count": 13,
   "metadata": {},
   "outputs": [
    {
     "name": "stdout",
     "output_type": "stream",
     "text": [
      "<class 'pandas.core.frame.DataFrame'>\n",
      "DatetimeIndex: 68206 entries, 2017-01-01 23:30:00 to 2017-12-31 14:55:00\n",
      "Data columns (total 19 columns):\n",
      "Vlo-I          68206 non-null object\n",
      "Ori-I          68206 non-null category\n",
      "Des-I          68206 non-null category\n",
      "Emp-I          68206 non-null category\n",
      "Fecha-O        68206 non-null datetime64[ns]\n",
      "Vlo-O          68205 non-null object\n",
      "Ori-O          68206 non-null category\n",
      "Des-O          68206 non-null category\n",
      "Emp-O          68206 non-null category\n",
      "DIA            68206 non-null category\n",
      "MES            68206 non-null category\n",
      "AÑO            68206 non-null category\n",
      "DIANOM         68206 non-null category\n",
      "TIPOVUELO      68206 non-null category\n",
      "OPERA          68206 non-null category\n",
      "SIGLAORI       68206 non-null category\n",
      "SIGLADES       68206 non-null category\n",
      "day_period     68206 non-null object\n",
      "high_season    7047 non-null object\n",
      "dtypes: category(14), datetime64[ns](1), object(4)\n",
      "memory usage: 6.5+ MB\n"
     ]
    }
   ],
   "source": [
    "df.info()"
   ]
  },
  {
   "cell_type": "code",
   "execution_count": 18,
   "metadata": {},
   "outputs": [],
   "source": [
    "df['high_season'] = False"
   ]
  },
  {
   "cell_type": "code",
   "execution_count": 19,
   "metadata": {},
   "outputs": [],
   "source": [
    "df.loc['07-15-2017':'07-31-2017', 'high_season'] = True"
   ]
  },
  {
   "cell_type": "code",
   "execution_count": 20,
   "metadata": {},
   "outputs": [],
   "source": [
    "df.loc['09-11-2017':'09-30-2017', 'high_season'] = True"
   ]
  },
  {
   "cell_type": "code",
   "execution_count": 21,
   "metadata": {},
   "outputs": [],
   "source": [
    "df.loc[:'03-03-2017', 'high_season'] = True"
   ]
  },
  {
   "cell_type": "code",
   "execution_count": 22,
   "metadata": {},
   "outputs": [],
   "source": [
    "df.loc['12-15-2017':, 'high_season'] = True"
   ]
  },
  {
   "cell_type": "code",
   "execution_count": 24,
   "metadata": {},
   "outputs": [
    {
     "name": "stdout",
     "output_type": "stream",
     "text": [
      "<class 'pandas.core.frame.DataFrame'>\n",
      "DatetimeIndex: 45444 entries, 2017-03-04 23:30:00 to 2017-12-10 16:16:00\n",
      "Data columns (total 19 columns):\n",
      "Vlo-I          45444 non-null object\n",
      "Ori-I          45444 non-null category\n",
      "Des-I          45444 non-null category\n",
      "Emp-I          45444 non-null category\n",
      "Fecha-O        45444 non-null datetime64[ns]\n",
      "Vlo-O          45444 non-null object\n",
      "Ori-O          45444 non-null category\n",
      "Des-O          45444 non-null category\n",
      "Emp-O          45444 non-null category\n",
      "DIA            45444 non-null category\n",
      "MES            45444 non-null category\n",
      "AÑO            45444 non-null category\n",
      "DIANOM         45444 non-null category\n",
      "TIPOVUELO      45444 non-null category\n",
      "OPERA          45444 non-null category\n",
      "SIGLAORI       45444 non-null category\n",
      "SIGLADES       45444 non-null category\n",
      "day_period     45444 non-null object\n",
      "high_season    45444 non-null bool\n",
      "dtypes: bool(1), category(14), datetime64[ns](1), object(3)\n",
      "memory usage: 2.4+ MB\n"
     ]
    }
   ],
   "source": [
    "df[df['high_season'] == False].info()"
   ]
  },
  {
   "cell_type": "code",
   "execution_count": null,
   "metadata": {},
   "outputs": [],
   "source": []
  }
 ],
 "metadata": {
  "kernelspec": {
   "display_name": "flights",
   "language": "python",
   "name": "flights"
  },
  "language_info": {
   "codemirror_mode": {
    "name": "ipython",
    "version": 3
   },
   "file_extension": ".py",
   "mimetype": "text/x-python",
   "name": "python",
   "nbconvert_exporter": "python",
   "pygments_lexer": "ipython3",
   "version": "3.6.5"
  }
 },
 "nbformat": 4,
 "nbformat_minor": 2
}

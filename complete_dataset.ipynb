{
 "cells": [
  {
   "cell_type": "code",
   "execution_count": 63,
   "metadata": {},
   "outputs": [],
   "source": [
    "from datetime import time\n",
    "import calendar\n",
    "\n",
    "import pandas as pd\n",
    "import numpy as np\n",
    "\n",
    "from utils import load_dataset"
   ]
  },
  {
   "cell_type": "code",
   "execution_count": 64,
   "metadata": {},
   "outputs": [],
   "source": [
    "df = load_dataset()"
   ]
  },
  {
   "cell_type": "markdown",
   "metadata": {},
   "source": [
    "## Period of day\n",
    "- `morning`: between 5:00 and 11:59\n",
    "- `afternoon`: between 12:00 and 18:59\n",
    "- `night`: between 7:00 and 4:59 based on Date-I."
   ]
  },
  {
   "cell_type": "code",
   "execution_count": 65,
   "metadata": {},
   "outputs": [],
   "source": [
    "def get_period(row):\n",
    "    if time(5, 0, 0) <= row['Fecha-I'].time() <= time(11, 59, 0):\n",
    "        return 'morning'\n",
    "    elif time(12, 0, 0) <= row['Fecha-I'].time() <= time(18, 59, 0):\n",
    "        return 'afternoon'\n",
    "    else:\n",
    "        return 'night'"
   ]
  },
  {
   "cell_type": "code",
   "execution_count": 66,
   "metadata": {},
   "outputs": [],
   "source": [
    "df.reset_index(inplace=True)\n",
    "df['day_period'] = df.apply(lambda row: get_period(row), axis=1)\n",
    "df.set_index('Fecha-I', inplace=True)"
   ]
  },
  {
   "cell_type": "code",
   "execution_count": 67,
   "metadata": {},
   "outputs": [
    {
     "data": {
      "text/plain": [
       "afternoon    25506\n",
       "morning      25352\n",
       "night        17348\n",
       "Name: day_period, dtype: int64"
      ]
     },
     "execution_count": 67,
     "metadata": {},
     "output_type": "execute_result"
    }
   ],
   "source": [
    "df['day_period'].value_counts()"
   ]
  },
  {
   "cell_type": "markdown",
   "metadata": {},
   "source": [
    "## High season\n",
    "`high_season`: 1 if `Date-I` is between in (15-Dic and 3-Mar), or (15-Jul y 31-Jul), or (11-Sep y 30-Sep), 0 if not."
   ]
  },
  {
   "cell_type": "code",
   "execution_count": 70,
   "metadata": {},
   "outputs": [],
   "source": [
    "df['high_season'] = 0\n",
    "df.loc['07-15-2017':'07-31-2017', 'high_season'] = 1\n",
    "df.loc['09-11-2017':'09-30-2017', 'high_season'] = 1\n",
    "df.loc[:'03-03-2017', 'high_season'] = 1\n",
    "df.loc['12-15-2017':, 'high_season'] = 1"
   ]
  },
  {
   "cell_type": "markdown",
   "metadata": {},
   "source": [
    "## Difference in minutes \n",
    "`min_diff`: Difference between `Date-O` and `Date-I` in minutes."
   ]
  },
  {
   "cell_type": "code",
   "execution_count": 1,
   "metadata": {},
   "outputs": [],
   "source": [
    "def get_min_diff(df):\n",
    "    df.reset_index(inplace=True)\n",
    "    df['min_diff'] = (df['Fecha-O'] - df['Fecha-I']).astype('timedelta64[m]')\n",
    "    df.set_index('Fecha-I', inplace=True)"
   ]
  },
  {
   "cell_type": "markdown",
   "metadata": {},
   "source": [
    "## Delay 15: \n",
    "`delay_15`: 1 if `min_diff` > 15, 0 if not."
   ]
  },
  {
   "cell_type": "code",
   "execution_count": 60,
   "metadata": {},
   "outputs": [],
   "source": [
    "df['delay_15'] = df['min_diff'].apply(lambda x: 1 if x > 15 else 0)"
   ]
  }
 ],
 "metadata": {
  "kernelspec": {
   "display_name": "flights",
   "language": "python",
   "name": "flights"
  },
  "language_info": {
   "codemirror_mode": {
    "name": "ipython",
    "version": 3
   },
   "file_extension": ".py",
   "mimetype": "text/x-python",
   "name": "python",
   "nbconvert_exporter": "python",
   "pygments_lexer": "ipython3",
   "version": "3.6.5"
  }
 },
 "nbformat": 4,
 "nbformat_minor": 2
}
